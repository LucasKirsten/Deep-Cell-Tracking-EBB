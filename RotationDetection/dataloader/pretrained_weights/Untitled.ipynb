{
 "cells": [
  {
   "cell_type": "code",
   "execution_count": 2,
   "id": "eecd2fa5",
   "metadata": {},
   "outputs": [
    {
     "name": "stdout",
     "output_type": "stream",
     "text": [
      "Archive:  drive-download-20220611T020745Z-001.zip\n",
      "  inflating: checkpoint              \n",
      "  inflating: resnet50_v1d.ckpt.index  \n",
      "  inflating: resnet50_v1b.ckpt.index  \n",
      "  inflating: resnet50_v1d.ckpt.data-00000-of-00001  \n",
      "  inflating: resnet50_v1b.ckpt.meta  \n",
      "  inflating: resnet50_v1b.ckpt.data-00000-of-00001  \n",
      "  inflating: resnet50_v1d.ckpt.meta  \n"
     ]
    }
   ],
   "source": [
    "!unzip drive-download-20220611T020745Z-001.zip"
   ]
  },
  {
   "cell_type": "code",
   "execution_count": null,
   "id": "34ef008f",
   "metadata": {},
   "outputs": [],
   "source": []
  }
 ],
 "metadata": {
  "kernelspec": {
   "display_name": "Python 3",
   "language": "python",
   "name": "python3"
  },
  "language_info": {
   "codemirror_mode": {
    "name": "ipython",
    "version": 3
   },
   "file_extension": ".py",
   "mimetype": "text/x-python",
   "name": "python",
   "nbconvert_exporter": "python",
   "pygments_lexer": "ipython3",
   "version": "3.6.9"
  }
 },
 "nbformat": 4,
 "nbformat_minor": 5
}
