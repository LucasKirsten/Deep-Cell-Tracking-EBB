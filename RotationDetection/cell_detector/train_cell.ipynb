{
 "cells": [
  {
   "cell_type": "code",
   "execution_count": null,
   "id": "e9c1fac8",
   "metadata": {
    "jupyter": {
     "source_hidden": true
    }
   },
   "outputs": [],
   "source": [
    "%load_ext autoreload\n",
    "%autoreload 2"
   ]
  },
  {
   "cell_type": "code",
   "execution_count": null,
   "id": "05c3af88",
   "metadata": {
    "jupyter": {
     "source_hidden": true
    }
   },
   "outputs": [],
   "source": [
    "import sys\n",
    "sys.path.append('./src')\n",
    "\n",
    "import os\n",
    "import cv2\n",
    "import numpy as np\n",
    "from silence_tensorflow import silence_tensorflow\n",
    "silence_tensorflow()\n",
    "import tensorflow as tf\n",
    "tf.enable_eager_execution()\n",
    "import matplotlib.pyplot as plt\n",
    "from importlib import import_module\n",
    "\n",
    "import configs as cfgs\n",
    "from callbacks import LearningRateScheduler\n",
    "from data_loader import data_loader, view_data"
   ]
  },
  {
   "cell_type": "code",
   "execution_count": null,
   "id": "3a967266",
   "metadata": {
    "jupyter": {
     "source_hidden": true
    }
   },
   "outputs": [],
   "source": [
    "# import experiment model\n",
    "model = import_module(f'src.{cfgs.EXPERIMENT_NAME}.model').Model()"
   ]
  },
  {
   "cell_type": "code",
   "execution_count": null,
   "id": "a3c8e0e7",
   "metadata": {
    "jupyter": {
     "source_hidden": true
    }
   },
   "outputs": [],
   "source": [
    "# define callbacks\n",
    "lr_scheduler = LearningRateScheduler()\n",
    "tensorboard  = tf.keras.callbacks.TensorBoard(write_graph=False, update_freq=1)\n",
    "checkpoints  = tf.keras.callbacks.ModelCheckpoint(f'results/{cfgs.EXPERIMENT_NAME}.h5', save_best_only=False)"
   ]
  },
  {
   "cell_type": "code",
   "execution_count": null,
   "id": "93b10608",
   "metadata": {
    "jupyter": {
     "source_hidden": true
    }
   },
   "outputs": [],
   "source": [
    "data = data_loader()\n",
    "\n",
    "model.fit_generator(\n",
    "    data,\n",
    "    steps_per_epoch = cfgs.MAX_ITERATION//cfgs.MAX_EPOCH,\n",
    "    epochs = cfgs.MAX_EPOCH,\n",
    "    callbacks = [lr_scheduler, tensorboard, checkpoints]\n",
    ")"
   ]
  },
  {
   "cell_type": "code",
   "execution_count": null,
   "id": "ac6b2f23",
   "metadata": {
    "jupyter": {
     "source_hidden": true
    }
   },
   "outputs": [],
   "source": [
    "#model.save_weights('cell_detector_weights.h5')"
   ]
  },
  {
   "cell_type": "code",
   "execution_count": null,
   "id": "777bd223",
   "metadata": {
    "jupyter": {
     "source_hidden": true
    }
   },
   "outputs": [],
   "source": [
    "for sample in data.take(11):\n",
    "    img = np.uint8(sample[0][0]*cfgs.PIXEL_STD+cfgs.PIXEL_MEAN)\n",
    "    true_classes = sample[1]['classification'][0]\n",
    "    true_regress = sample[1]['regression'][0]"
   ]
  },
  {
   "cell_type": "code",
   "execution_count": null,
   "id": "f5f384bd",
   "metadata": {
    "jupyter": {
     "source_hidden": true
    }
   },
   "outputs": [],
   "source": [
    "classes, regress = model.predict(sample[0])\n",
    "pred_classes = np.where(classes[0]>0.3, 1, 0)\n",
    "pred_regress = regress[0]"
   ]
  },
  {
   "cell_type": "code",
   "execution_count": null,
   "id": "5ea14c2f",
   "metadata": {
    "jupyter": {
     "source_hidden": true
    }
   },
   "outputs": [],
   "source": [
    "plt.figure(figsize=(10,10))\n",
    "plt.subplot(221)\n",
    "plt.imshow(pred_classes[...,0])\n",
    "\n",
    "plt.subplot(222)\n",
    "plt.imshow(true_classes[...,0])\n",
    "\n",
    "plt.subplot(223)\n",
    "plt.imshow(pred_classes[...,1])\n",
    "\n",
    "plt.subplot(224)\n",
    "plt.imshow(true_classes[...,1])"
   ]
  },
  {
   "cell_type": "code",
   "execution_count": null,
   "id": "17bd19eb",
   "metadata": {
    "jupyter": {
     "source_hidden": true
    }
   },
   "outputs": [],
   "source": [
    "view_data(img, true_classes.numpy(), true_regress.numpy())"
   ]
  },
  {
   "cell_type": "code",
   "execution_count": null,
   "id": "df8b10ba",
   "metadata": {
    "jupyter": {
     "source_hidden": true
    }
   },
   "outputs": [],
   "source": [
    "view_data(img, pred_classes, pred_regress)"
   ]
  },
  {
   "cell_type": "code",
   "execution_count": null,
   "id": "6d237fc1",
   "metadata": {
    "jupyter": {
     "source_hidden": true
    }
   },
   "outputs": [],
   "source": [
    "from glob import glob\n",
    "\n",
    "test_imgs = glob('/workdir/datasets/msc/UFRGS_CELL_2classes/test/imgs/*.jpg')"
   ]
  },
  {
   "cell_type": "code",
   "execution_count": null,
   "id": "b2cc14a3",
   "metadata": {
    "jupyter": {
     "source_hidden": true
    }
   },
   "outputs": [],
   "source": [
    "def resize2ratio(img):\n",
    "    h,w,c = img.shape\n",
    "    hh = h%2**5; ww = w%2**5\n",
    "    \n",
    "    img = cv2.copyMakeBorder(img, 0, hh, 0, ww, cv2.BORDER_CONSTANT)\n",
    "    \n",
    "    return img"
   ]
  },
  {
   "cell_type": "code",
   "execution_count": null,
   "id": "1513ff2b",
   "metadata": {
    "jupyter": {
     "source_hidden": true
    }
   },
   "outputs": [],
   "source": [
    "path_img = np.random.choice(test_imgs)\n",
    "img = cv2.imread(path_img)\n",
    "img = resize2ratio(img)"
   ]
  },
  {
   "cell_type": "code",
   "execution_count": null,
   "id": "312e7ed2",
   "metadata": {
    "jupyter": {
     "source_hidden": true
    }
   },
   "outputs": [],
   "source": [
    "img_batch = np.float32((img-cfgs.PIXEL_MEAN)/cfgs.PIXEL_STD)[np.newaxis,...]\n",
    "\n",
    "classes, regress = model.predict(img_batch)\n",
    "pred_classes = np.where(classes[0]>0.3, 1, 0)\n",
    "pred_regress = regress[0]"
   ]
  },
  {
   "cell_type": "code",
   "execution_count": null,
   "id": "e24dca2b",
   "metadata": {
    "jupyter": {
     "source_hidden": true
    }
   },
   "outputs": [],
   "source": [
    "view_data(img, pred_classes, pred_regress)"
   ]
  },
  {
   "cell_type": "code",
   "execution_count": 3,
   "id": "9785eaf1",
   "metadata": {},
   "outputs": [
    {
     "name": "stdout",
     "output_type": "stream",
     "text": [
      "Eval image exp_M3_Mauricio_mcf7_frame_17: 100%|█| 30/30 [00:09<00:00,  3.22it/s]\n",
      "********************\n",
      "rotation eval:\n",
      "Writing normal_cell VOC resutls file\n",
      "Writing mitoses VOC resutls file\n",
      "Threshold:  0.5\n",
      "cls : normal_cell|| Recall: 0.8004509573839336 || Precison: 0.21061999406704243|| AP: 0.6014496431194948\n",
      "F1:0.6551055976661195 P:0.6972010178117048 R:0.6178128516146416\n",
      "cls : mitoses|| Recall: 0.3619047584580499 || Precison: 0.1|| AP: 0.15084276473189784\n",
      "F1:0.22429406623068884 P:0.22018348623853212 R:0.22857142639455785\n",
      "mAP is : 0.3761462039256963\n",
      "\n",
      "\n",
      "Threshold:  0.55\n",
      "cls : normal_cell|| Recall: 0.7091319044992876 || Precison: 0.18659151587066153|| AP: 0.4980959888455296\n",
      "F1:0.5778238355111743 P:0.5889929742388759 R:0.5670800444565051\n",
      "cls : mitoses|| Recall: 0.32380952072562363 || Precison: 0.08947368421052632|| AP: 0.1381104864916151\n",
      "F1:0.19354339153665293 P:0.1875 R:0.1999999980952381\n",
      "mAP is : 0.31810323766857235\n",
      "\n",
      "\n",
      "Threshold:  0.6000000000000001\n",
      "cls : normal_cell|| Recall: 0.6155580601853912 || Precison: 0.1619697419163453|| AP: 0.3854825502891605\n",
      "F1:0.49491432461214774 P:0.5267175572519084 R:0.466741825854857\n",
      "cls : mitoses|| Recall: 0.23809523582766443 || Precison: 0.06578947368421052|| AP: 0.10996503496503497\n",
      "F1:0.12902737511970847 P:0.11188811188811189 R:0.15238095092970524\n",
      "mAP is : 0.24772379262709773\n",
      "\n",
      "\n",
      "Threshold:  0.6500000000000001\n",
      "cls : normal_cell|| Recall: 0.47914317871573486 || Precison: 0.1260753485612578|| AP: 0.25318296518866695\n",
      "F1:0.36717328727145604 P:0.3853779429987608 R:0.3506200672484554\n",
      "cls : mitoses|| Recall: 0.09523809433106577 || Precison: 0.02631578947368421|| AP: 0.012987012987012986\n",
      "F1:0.05479042237442332 P:0.038461538461538464 R:0.09523809433106577\n",
      "mAP is : 0.13308498908783997\n",
      "\n",
      "\n",
      "Threshold:  0.7000000000000002\n",
      "cls : normal_cell|| Recall: 0.3055242386634451 || Precison: 0.08039157520023732|| AP: 0.15131704251112024\n",
      "F1:0.2337612448859432 P:0.24535315985130113 R:0.2232243514958012\n",
      "cls : mitoses|| Recall: 0.047619047165532884 || Precison: 0.013157894736842105|| AP: 0.0017618040873854828\n",
      "F1:0.02754409816309425 P:0.01937984496124031 R:0.047619047165532884\n",
      "mAP is : 0.07653942329925287\n",
      "\n",
      "\n",
      "Threshold:  0.7500000000000002\n",
      "cls : normal_cell|| Recall: 0.18263810576929188 || Precison: 0.04805695639276179|| AP: 0.031974525221869686\n",
      "F1:0.12377350857698301 P:0.1193717277486911 R:0.12852311146727946\n",
      "cls : mitoses|| Recall: 0.019047618866213156 || Precison: 0.005263157894736842|| AP: 0.0007047216349541931\n",
      "F1:0.011015173508867332 P:0.007751937984496124 R:0.019047618866213156\n",
      "mAP is : 0.01633962342841194\n",
      "\n",
      "\n",
      "Threshold:  0.8000000000000003\n",
      "cls : normal_cell|| Recall: 0.08004509573839336 || Precison: 0.02106199940670424|| AP: 0.00879765395894428\n",
      "F1:0.04975163390321382 P:0.04781704781704782 R:0.05186020287276189\n",
      "cls : mitoses|| Recall: 0.009523809433106578 || Precison: 0.002631578947368421|| AP: 0.00035236081747709656\n",
      "F1:0.005505533183308277 P:0.003875968992248062 R:0.009523809433106578\n",
      "mAP is : 0.004575007388210688\n",
      "\n",
      "\n",
      "Threshold:  0.8500000000000003\n",
      "cls : normal_cell|| Recall: 0.03156708000950724 || Precison: 0.00830614061109463|| AP: 0.0053475935828877\n",
      "F1:0.01540496525212536 P:0.012032932235592146 R:0.02142051857787991\n",
      "cls : mitoses|| Recall: 0.0 || Precison: 0.0|| AP: 0.0\n",
      "F1:0.0 P:0.0 R:0.0\n",
      "mAP is : 0.00267379679144385\n",
      "\n",
      "\n",
      "Threshold:  0.9000000000000004\n",
      "cls : normal_cell|| Recall: 0.00789177000237681 || Precison: 0.0020765351527736575|| AP: 0.0011363636363636365\n",
      "F1:0.004481552929311836 P:0.003355704697986577 R:0.006764374287751551\n",
      "cls : mitoses|| Recall: 0.0 || Precison: 0.0|| AP: 0.0\n",
      "F1:0.0 P:0.0 R:0.0\n",
      "mAP is : 0.0005681818181818183\n",
      "\n",
      "\n",
      "Threshold:  0.9500000000000004\n",
      "cls : normal_cell|| Recall: 0.0 || Precison: 0.0|| AP: 0.0\n",
      "F1:0.0 P:0.0 R:0.0\n",
      "cls : mitoses|| Recall: 0.0 || Precison: 0.0|| AP: 0.0\n",
      "F1:0.0 P:0.0 R:0.0\n",
      "mAP is : 0.0\n",
      "\n",
      "\n",
      "mAP50:95 :  0.11757542560347074\n"
     ]
    }
   ],
   "source": [
    "!python src/test_ufrgscell.py --img_dir='/workdir/datasets/msc/UFRGS_CELL_2classes/test/imgs'  \\\n",
    "                              --gpu=0 \\\n",
    "                              --image_ext='.jpg' \\\n",
    "                              --test_annotation_path='/workdir/datasets/msc/UFRGS_CELL_2classes/test/xml_rotdet'"
   ]
  },
  {
   "cell_type": "markdown",
   "id": "57c93c08",
   "metadata": {},
   "source": [
    "| Model      | AP50 normal | AP50 mitoses | P50 normal | R50 normal | P50 mitoses | R50 mitoses |   AP50    |   AP75    |   AP50:95   |\n",
    "|----------- | ----------- | ------------ | ---------- | ---------- | ----------- | ----------- |   -----   |   -----   |   -------   |\n",
    "| RetinaNet  | **75.25**   |   56.47      |   81.87    | **75.87**  |   54.33     |   65.71     |   65.86   | **19.17** |   29.56     |\n",
    "| R3Det      |   74.97     |   63.21      | **83.93**  |   73.61    |   66.66     |   64.76     | **69.09** |   17.91   | **30.89**   |\n",
    "| DCL        |   71.81     | **63.35**    |   77.89    |   72.71    | **66.98**   | **67.62**   |   67.58   |   17.74   |   28.48     |\n",
    "| CSL        |   72.42     |   53.98      |   75.37    |   73.50    |   51.93     |   63.81     |   63.20   |   18.59   |   27.00     |\n",
    "| ResNet50   |   59.41     |   35.58      |   68.02    |   67.64    |   52.50     |   40.00     |   47.50   |    5.31   |   16.37     |\n",
    "| Claudio    |   60.14     |   15.08      |   69.72    |   61.78    |   22.01     |   22.85     |   37.61   |    1.63   |   11.75     |"
   ]
  },
  {
   "cell_type": "code",
   "execution_count": null,
   "id": "bda71264",
   "metadata": {},
   "outputs": [],
   "source": []
  }
 ],
 "metadata": {
  "kernelspec": {
   "display_name": "Python 3",
   "language": "python",
   "name": "python3"
  },
  "language_info": {
   "codemirror_mode": {
    "name": "ipython",
    "version": 3
   },
   "file_extension": ".py",
   "mimetype": "text/x-python",
   "name": "python",
   "nbconvert_exporter": "python",
   "pygments_lexer": "ipython3",
   "version": "3.6.9"
  }
 },
 "nbformat": 4,
 "nbformat_minor": 5
}
